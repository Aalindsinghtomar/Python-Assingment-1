{
 "cells": [
  {
   "cell_type": "raw",
   "id": "39a8f70d-b07d-40e1-9619-b726a17c8bbc",
   "metadata": {},
   "source": [
    "Discuss the different types of operators in Python and provide examples of how they are used."
   ]
  },
  {
   "cell_type": "raw",
   "id": "82a39fea-f6a1-4ef3-89a7-dea6e8433e42",
   "metadata": {},
   "source": [
    "Python operators are special symbols used to perform operations on variables and values. Python supports several types of operators, each serving a different purpose. Below are the primary categories of operators in Python along with examples of how they are used:"
   ]
  },
  {
   "cell_type": "raw",
   "id": "6f3e875a-20d6-414c-bd69-07ceb35343ea",
   "metadata": {},
   "source": [
    "1. Arithmetic Operators:\n",
    "Arithmetic operators are used to perform mathematical operations such as addition, subtraction, multiplication, etc."
   ]
  },
  {
   "cell_type": "code",
   "execution_count": 1,
   "id": "d725e096-2e8d-49b6-9c30-f577d9b6107e",
   "metadata": {},
   "outputs": [
    {
     "data": {
      "text/plain": [
       "5"
      ]
     },
     "execution_count": 1,
     "metadata": {},
     "output_type": "execute_result"
    }
   ],
   "source": [
    "#Addition (+):\n",
    "x = 2\n",
    "y = 3\n",
    "x + y\n"
   ]
  },
  {
   "cell_type": "code",
   "execution_count": 2,
   "id": "c93e03ca-4a91-4eb2-bc9f-df01737b095b",
   "metadata": {},
   "outputs": [
    {
     "data": {
      "text/plain": [
       "1"
      ]
     },
     "execution_count": 2,
     "metadata": {},
     "output_type": "execute_result"
    }
   ],
   "source": [
    "#Subtraction (-):\n",
    "x = 3\n",
    "y = 2\n",
    "x - y"
   ]
  },
  {
   "cell_type": "code",
   "execution_count": 3,
   "id": "9cd0d907-43e9-4274-ad84-5350f6704a21",
   "metadata": {},
   "outputs": [
    {
     "data": {
      "text/plain": [
       "6"
      ]
     },
     "execution_count": 3,
     "metadata": {},
     "output_type": "execute_result"
    }
   ],
   "source": [
    "#Multiplication (*):\n",
    "x = 3\n",
    "y = 2\n",
    "x * y"
   ]
  },
  {
   "cell_type": "code",
   "execution_count": 4,
   "id": "a361a650-cfdf-4214-8fdc-8083828ef305",
   "metadata": {},
   "outputs": [
    {
     "data": {
      "text/plain": [
       "3.0"
      ]
     },
     "execution_count": 4,
     "metadata": {},
     "output_type": "execute_result"
    }
   ],
   "source": [
    "#Division (/):\n",
    "x = 6\n",
    "y = 2\n",
    "x/y"
   ]
  },
  {
   "cell_type": "code",
   "execution_count": 6,
   "id": "4c40f1ac-148c-40a2-a1d4-bba77d80fafb",
   "metadata": {},
   "outputs": [
    {
     "data": {
      "text/plain": [
       "2.5"
      ]
     },
     "execution_count": 6,
     "metadata": {},
     "output_type": "execute_result"
    }
   ],
   "source": [
    "#Floor Division (//):\n",
    "x = 5\n",
    "y = 2\n",
    "x/y"
   ]
  },
  {
   "cell_type": "code",
   "execution_count": 7,
   "id": "6a9b07b5-b2cd-4ac3-9b8d-c3385b5da328",
   "metadata": {},
   "outputs": [
    {
     "data": {
      "text/plain": [
       "2"
      ]
     },
     "execution_count": 7,
     "metadata": {},
     "output_type": "execute_result"
    }
   ],
   "source": [
    "# to change it into an integer we will use floor division (//)\n",
    "x//y"
   ]
  },
  {
   "cell_type": "code",
   "execution_count": 8,
   "id": "e7443ecf-67fc-4fd7-a862-46cc3f7ed8df",
   "metadata": {},
   "outputs": [
    {
     "data": {
      "text/plain": [
       "4.0"
      ]
     },
     "execution_count": 8,
     "metadata": {},
     "output_type": "execute_result"
    }
   ],
   "source": [
    "#Modulus (%): to get the reminder\n",
    "x = 12\n",
    "y = 3\n",
    "x/y\n"
   ]
  },
  {
   "cell_type": "code",
   "execution_count": 9,
   "id": "38c0cc93-7917-4187-9caa-53b7ebd03189",
   "metadata": {},
   "outputs": [
    {
     "data": {
      "text/plain": [
       "0"
      ]
     },
     "execution_count": 9,
     "metadata": {},
     "output_type": "execute_result"
    }
   ],
   "source": [
    "x%y"
   ]
  },
  {
   "cell_type": "code",
   "execution_count": 11,
   "id": "7d3d45ef-8582-4274-b148-272293d83296",
   "metadata": {},
   "outputs": [
    {
     "data": {
      "text/plain": [
       "64"
      ]
     },
     "execution_count": 11,
     "metadata": {},
     "output_type": "execute_result"
    }
   ],
   "source": [
    "#Exponentiation (**)\n",
    "x = 2\n",
    "y = 6\n",
    "x**y\n"
   ]
  },
  {
   "cell_type": "raw",
   "id": "1468dff6-8a03-4936-97bf-c35f3a5eacfa",
   "metadata": {},
   "source": [
    "2. Comparison Operators:\n",
    "Comparison operators are used to compare two values. They return a Boolean result (True or False)."
   ]
  },
  {
   "cell_type": "code",
   "execution_count": 12,
   "id": "4c759aa8-426a-442f-b8de-c1a9048d613c",
   "metadata": {},
   "outputs": [
    {
     "data": {
      "text/plain": [
       "False"
      ]
     },
     "execution_count": 12,
     "metadata": {},
     "output_type": "execute_result"
    }
   ],
   "source": [
    "#Equal (==):\n",
    "x = 3\n",
    "y = 4\n",
    "x==y"
   ]
  },
  {
   "cell_type": "code",
   "execution_count": 13,
   "id": "23745ecd-0a12-429e-b0dd-66757a0e15d9",
   "metadata": {},
   "outputs": [
    {
     "data": {
      "text/plain": [
       "True"
      ]
     },
     "execution_count": 13,
     "metadata": {},
     "output_type": "execute_result"
    }
   ],
   "source": [
    "x = 4\n",
    "y = 4\n",
    "x==y"
   ]
  },
  {
   "cell_type": "code",
   "execution_count": 14,
   "id": "3120428d-52ea-4b2a-80e6-ccdab2be2ddf",
   "metadata": {},
   "outputs": [
    {
     "data": {
      "text/plain": [
       "True"
      ]
     },
     "execution_count": 14,
     "metadata": {},
     "output_type": "execute_result"
    }
   ],
   "source": [
    "#Not equal (!=):\n",
    "x = 3\n",
    "y = 4\n",
    "x!=y"
   ]
  },
  {
   "cell_type": "code",
   "execution_count": 15,
   "id": "aff50873-2fe9-4d1a-a6c8-391c7cdec5ef",
   "metadata": {},
   "outputs": [
    {
     "data": {
      "text/plain": [
       "False"
      ]
     },
     "execution_count": 15,
     "metadata": {},
     "output_type": "execute_result"
    }
   ],
   "source": [
    "x = 4\n",
    "y = 4\n",
    "x!=y"
   ]
  },
  {
   "cell_type": "code",
   "execution_count": 17,
   "id": "73352b55-1729-4d2d-8648-f986456664f5",
   "metadata": {},
   "outputs": [
    {
     "data": {
      "text/plain": [
       "False"
      ]
     },
     "execution_count": 17,
     "metadata": {},
     "output_type": "execute_result"
    }
   ],
   "source": [
    "#Greater than (>):\n",
    "x = 3\n",
    "y = 4\n",
    "x>y"
   ]
  },
  {
   "cell_type": "code",
   "execution_count": 19,
   "id": "b18a3f32-2701-48dd-877e-996b57681549",
   "metadata": {},
   "outputs": [
    {
     "data": {
      "text/plain": [
       "True"
      ]
     },
     "execution_count": 19,
     "metadata": {},
     "output_type": "execute_result"
    }
   ],
   "source": [
    "#Less than (<):\n",
    "x = 3\n",
    "y = 4\n",
    "x<4"
   ]
  },
  {
   "cell_type": "code",
   "execution_count": 21,
   "id": "d5a103e7-dc55-4d5d-856f-30d91dc30184",
   "metadata": {},
   "outputs": [
    {
     "data": {
      "text/plain": [
       "False"
      ]
     },
     "execution_count": 21,
     "metadata": {},
     "output_type": "execute_result"
    }
   ],
   "source": [
    "#Greater than or equal to (>=)\n",
    "x = 3\n",
    "y = 4\n",
    "x>=y"
   ]
  },
  {
   "cell_type": "code",
   "execution_count": 22,
   "id": "4a2d64aa-178a-4616-9c63-d2cfc51b53fb",
   "metadata": {},
   "outputs": [
    {
     "data": {
      "text/plain": [
       "True"
      ]
     },
     "execution_count": 22,
     "metadata": {},
     "output_type": "execute_result"
    }
   ],
   "source": [
    "x = 4\n",
    "y = 4\n",
    "x>=y"
   ]
  },
  {
   "cell_type": "code",
   "execution_count": 23,
   "id": "c6c27325-27c3-47e0-acbf-f37458c903e5",
   "metadata": {},
   "outputs": [
    {
     "data": {
      "text/plain": [
       "True"
      ]
     },
     "execution_count": 23,
     "metadata": {},
     "output_type": "execute_result"
    }
   ],
   "source": [
    "#Less than or equal to (<=):\n",
    "x = 3\n",
    "y = 4\n",
    "x<=y"
   ]
  },
  {
   "cell_type": "raw",
   "id": "a76b2a59-3cc2-4399-9b40-8b7a975db14e",
   "metadata": {},
   "source": [
    "3. Assignment Operators\n",
    "Assignment operators are used to assign values to variables."
   ]
  },
  {
   "cell_type": "code",
   "execution_count": 24,
   "id": "c8fff63f-b914-4641-99e5-c06a041fc269",
   "metadata": {},
   "outputs": [
    {
     "data": {
      "text/plain": [
       "5"
      ]
     },
     "execution_count": 24,
     "metadata": {},
     "output_type": "execute_result"
    }
   ],
   "source": [
    "#Assignment (=):\n",
    "x = 5\n",
    "x"
   ]
  },
  {
   "cell_type": "code",
   "execution_count": 26,
   "id": "bd10911a-0de0-4fa4-8783-d5b7f934a6f0",
   "metadata": {},
   "outputs": [
    {
     "data": {
      "text/plain": [
       "10"
      ]
     },
     "execution_count": 26,
     "metadata": {},
     "output_type": "execute_result"
    }
   ],
   "source": [
    "#Add and assign (+=):\n",
    "x = 5\n",
    "x+=5\n",
    "x"
   ]
  },
  {
   "cell_type": "code",
   "execution_count": 27,
   "id": "7769442a-4c2e-4b66-a6d1-35b9fffffdc3",
   "metadata": {},
   "outputs": [
    {
     "data": {
      "text/plain": [
       "4"
      ]
     },
     "execution_count": 27,
     "metadata": {},
     "output_type": "execute_result"
    }
   ],
   "source": [
    "#Subtract and assign (-=):\n",
    "x = 7\n",
    "x-= 3\n",
    "x"
   ]
  },
  {
   "cell_type": "code",
   "execution_count": 28,
   "id": "4ab39956-186f-4bfe-b505-ea5d23edbdb1",
   "metadata": {},
   "outputs": [
    {
     "data": {
      "text/plain": [
       "10"
      ]
     },
     "execution_count": 28,
     "metadata": {},
     "output_type": "execute_result"
    }
   ],
   "source": [
    "#Multiply and assign (*=):\n",
    "x = 5\n",
    "x*=2\n",
    "x"
   ]
  },
  {
   "cell_type": "code",
   "execution_count": 29,
   "id": "db90fdd9-f512-4cd1-9b15-505be96c1382",
   "metadata": {},
   "outputs": [
    {
     "data": {
      "text/plain": [
       "4.0"
      ]
     },
     "execution_count": 29,
     "metadata": {},
     "output_type": "execute_result"
    }
   ],
   "source": [
    "#Divide and assign (/=):\n",
    "x = 8\n",
    "x/=2\n",
    "x"
   ]
  },
  {
   "cell_type": "code",
   "execution_count": 30,
   "id": "3b889d30-d08c-4205-b10f-e9a884e99910",
   "metadata": {},
   "outputs": [
    {
     "data": {
      "text/plain": [
       "1"
      ]
     },
     "execution_count": 30,
     "metadata": {},
     "output_type": "execute_result"
    }
   ],
   "source": [
    "#Modulus and assign (%=):\n",
    "x = 5\n",
    "x%= 2\n",
    "x"
   ]
  },
  {
   "cell_type": "code",
   "execution_count": 32,
   "id": "ad3b420c-a50e-4804-a673-beaff8ab99ef",
   "metadata": {},
   "outputs": [
    {
     "data": {
      "text/plain": [
       "16"
      ]
     },
     "execution_count": 32,
     "metadata": {},
     "output_type": "execute_result"
    }
   ],
   "source": [
    "#Exponent and assign (**=):\n",
    "x = 4\n",
    "x**=2\n",
    "x"
   ]
  },
  {
   "cell_type": "code",
   "execution_count": 33,
   "id": "a4143296-9ac6-40d8-a7d3-fcb1e798f6d0",
   "metadata": {},
   "outputs": [
    {
     "data": {
      "text/plain": [
       "4"
      ]
     },
     "execution_count": 33,
     "metadata": {},
     "output_type": "execute_result"
    }
   ],
   "source": [
    "#Floor divide and assign (//=):\n",
    "x = 9\n",
    "x //= 2\n",
    "x"
   ]
  },
  {
   "cell_type": "raw",
   "id": "6108ab4d-487a-42ea-8118-1b2c2f0da686",
   "metadata": {},
   "source": [
    " 4. Logical Operators:\n",
    "Logical operators are used to combine conditional statements and return a Boolean result."
   ]
  },
  {
   "cell_type": "code",
   "execution_count": 36,
   "id": "7ff2cac6-5a6a-4b23-b7db-3305a23f57f3",
   "metadata": {},
   "outputs": [
    {
     "data": {
      "text/plain": [
       "True"
      ]
     },
     "execution_count": 36,
     "metadata": {},
     "output_type": "execute_result"
    }
   ],
   "source": [
    "#AND (and):\n",
    "result = (x > 2) and (y < 5)\n",
    "result"
   ]
  },
  {
   "cell_type": "code",
   "execution_count": 37,
   "id": "75f1159e-0a6f-43fc-a603-72ba6e35c34c",
   "metadata": {},
   "outputs": [
    {
     "data": {
      "text/plain": [
       "True"
      ]
     },
     "execution_count": 37,
     "metadata": {},
     "output_type": "execute_result"
    }
   ],
   "source": [
    "#OR (or):\n",
    "result = (x > 5) or (y < 5)\n",
    "result"
   ]
  },
  {
   "cell_type": "code",
   "execution_count": 40,
   "id": "c5e4728f-6329-421f-9702-1f4b1ac8056c",
   "metadata": {},
   "outputs": [
    {
     "data": {
      "text/plain": [
       "True"
      ]
     },
     "execution_count": 40,
     "metadata": {},
     "output_type": "execute_result"
    }
   ],
   "source": [
    "#NOT (not):\n",
    "x = 2\n",
    "result = not(x > 5) \n",
    "result"
   ]
  },
  {
   "cell_type": "raw",
   "id": "042942c0-8c60-4cfd-accd-a2ef3957faa7",
   "metadata": {},
   "source": [
    "5. Bitwise Operators\n",
    "Bitwise operators operate on bits and perform bit-by-bit operations."
   ]
  },
  {
   "cell_type": "code",
   "execution_count": 56,
   "id": "a1ff3e77-4317-461c-b193-3dd4731e819c",
   "metadata": {},
   "outputs": [
    {
     "data": {
      "text/plain": [
       "2"
      ]
     },
     "execution_count": 56,
     "metadata": {},
     "output_type": "execute_result"
    }
   ],
   "source": [
    "#AND (&):\n",
    "x = 18\n",
    "y = 3\n",
    "x & y"
   ]
  },
  {
   "cell_type": "code",
   "execution_count": 57,
   "id": "1cb21537-6fe9-426f-8de2-945db28f5180",
   "metadata": {},
   "outputs": [
    {
     "data": {
      "text/plain": [
       "'0b10010'"
      ]
     },
     "execution_count": 57,
     "metadata": {},
     "output_type": "execute_result"
    }
   ],
   "source": [
    "bin(18)"
   ]
  },
  {
   "cell_type": "code",
   "execution_count": 58,
   "id": "1bc581d7-7a08-448d-a514-297279b8cdc2",
   "metadata": {},
   "outputs": [
    {
     "data": {
      "text/plain": [
       "'0b11'"
      ]
     },
     "execution_count": 58,
     "metadata": {},
     "output_type": "execute_result"
    }
   ],
   "source": [
    "bin(3)"
   ]
  },
  {
   "cell_type": "code",
   "execution_count": 59,
   "id": "9b92d146-b70a-4a9e-a266-591ad1b953d7",
   "metadata": {},
   "outputs": [
    {
     "data": {
      "text/plain": [
       "'0b10'"
      ]
     },
     "execution_count": 59,
     "metadata": {},
     "output_type": "execute_result"
    }
   ],
   "source": [
    "bin(2)"
   ]
  },
  {
   "cell_type": "code",
   "execution_count": 61,
   "id": "40593a3e-e2ab-4434-a6c8-172aa5da9263",
   "metadata": {},
   "outputs": [
    {
     "data": {
      "text/plain": [
       "7"
      ]
     },
     "execution_count": 61,
     "metadata": {},
     "output_type": "execute_result"
    }
   ],
   "source": [
    "#OR (|):\n",
    "x = 3\n",
    "y = 5\n",
    "x | y"
   ]
  },
  {
   "cell_type": "code",
   "execution_count": 62,
   "id": "8c5bb807-9fba-4a7c-9c5e-e3a624b82219",
   "metadata": {},
   "outputs": [
    {
     "data": {
      "text/plain": [
       "'0b11'"
      ]
     },
     "execution_count": 62,
     "metadata": {},
     "output_type": "execute_result"
    }
   ],
   "source": [
    "bin(3)"
   ]
  },
  {
   "cell_type": "code",
   "execution_count": 63,
   "id": "7e1529ce-95cc-4db2-9325-cfd6e26b3ff7",
   "metadata": {},
   "outputs": [
    {
     "data": {
      "text/plain": [
       "'0b101'"
      ]
     },
     "execution_count": 63,
     "metadata": {},
     "output_type": "execute_result"
    }
   ],
   "source": [
    "bin(5)"
   ]
  },
  {
   "cell_type": "code",
   "execution_count": 65,
   "id": "97297729-b499-4e9f-abdc-d77bc424eed3",
   "metadata": {},
   "outputs": [
    {
     "data": {
      "text/plain": [
       "'0b111'"
      ]
     },
     "execution_count": 65,
     "metadata": {},
     "output_type": "execute_result"
    }
   ],
   "source": [
    "bin(7)"
   ]
  },
  {
   "cell_type": "code",
   "execution_count": 66,
   "id": "72749f10-3734-4649-b3b5-6c181eee896a",
   "metadata": {},
   "outputs": [
    {
     "data": {
      "text/plain": [
       "6"
      ]
     },
     "execution_count": 66,
     "metadata": {},
     "output_type": "execute_result"
    }
   ],
   "source": [
    "#XOR (^):\n",
    "x = 3\n",
    "y = 5\n",
    "x ^ y"
   ]
  },
  {
   "cell_type": "code",
   "execution_count": 67,
   "id": "e24cedf7-9aea-42b9-ab02-e5051adb1974",
   "metadata": {},
   "outputs": [
    {
     "data": {
      "text/plain": [
       "'0b11'"
      ]
     },
     "execution_count": 67,
     "metadata": {},
     "output_type": "execute_result"
    }
   ],
   "source": [
    "bin(3)"
   ]
  },
  {
   "cell_type": "code",
   "execution_count": 68,
   "id": "7899f51e-ef85-42d3-851c-c79f1bb1a6d0",
   "metadata": {},
   "outputs": [
    {
     "data": {
      "text/plain": [
       "'0b101'"
      ]
     },
     "execution_count": 68,
     "metadata": {},
     "output_type": "execute_result"
    }
   ],
   "source": [
    "bin(5)"
   ]
  },
  {
   "cell_type": "code",
   "execution_count": 69,
   "id": "fa9929fe-3c0d-4c64-8786-d9bbecf9ce91",
   "metadata": {},
   "outputs": [
    {
     "data": {
      "text/plain": [
       "'0b110'"
      ]
     },
     "execution_count": 69,
     "metadata": {},
     "output_type": "execute_result"
    }
   ],
   "source": [
    "bin(6)"
   ]
  },
  {
   "cell_type": "code",
   "execution_count": 70,
   "id": "09c30a0c-5a81-4712-a7c1-bae7a042ab54",
   "metadata": {},
   "outputs": [
    {
     "data": {
      "text/plain": [
       "-101"
      ]
     },
     "execution_count": 70,
     "metadata": {},
     "output_type": "execute_result"
    }
   ],
   "source": [
    "#NOT (~):\n",
    "~100"
   ]
  },
  {
   "cell_type": "code",
   "execution_count": 71,
   "id": "e1bb6150-a564-4f62-9fa4-6a57140329bb",
   "metadata": {},
   "outputs": [
    {
     "data": {
      "text/plain": [
       "280"
      ]
     },
     "execution_count": 71,
     "metadata": {},
     "output_type": "execute_result"
    }
   ],
   "source": [
    "#Left shift (<<):\n",
    "35<<3"
   ]
  },
  {
   "cell_type": "code",
   "execution_count": 72,
   "id": "c9f3034d-895f-429f-8cf9-67358b0f6d75",
   "metadata": {},
   "outputs": [
    {
     "data": {
      "text/plain": [
       "'0b100011'"
      ]
     },
     "execution_count": 72,
     "metadata": {},
     "output_type": "execute_result"
    }
   ],
   "source": [
    "bin(35)"
   ]
  },
  {
   "cell_type": "code",
   "execution_count": 73,
   "id": "98f57fca-a45f-4d50-bab2-97679230193f",
   "metadata": {},
   "outputs": [
    {
     "data": {
      "text/plain": [
       "'0b11'"
      ]
     },
     "execution_count": 73,
     "metadata": {},
     "output_type": "execute_result"
    }
   ],
   "source": [
    "bin(3)"
   ]
  },
  {
   "cell_type": "code",
   "execution_count": 74,
   "id": "44a04434-f5a0-430b-891e-2d91b7c5622c",
   "metadata": {},
   "outputs": [
    {
     "data": {
      "text/plain": [
       "'0b100011000'"
      ]
     },
     "execution_count": 74,
     "metadata": {},
     "output_type": "execute_result"
    }
   ],
   "source": [
    "bin(280)"
   ]
  },
  {
   "cell_type": "code",
   "execution_count": 75,
   "id": "dbc5c778-0d46-4ee7-bcef-afe84395fc38",
   "metadata": {},
   "outputs": [
    {
     "data": {
      "text/plain": [
       "35"
      ]
     },
     "execution_count": 75,
     "metadata": {},
     "output_type": "execute_result"
    }
   ],
   "source": [
    "#Right shift (>>):\n",
    "280>>3"
   ]
  },
  {
   "cell_type": "code",
   "execution_count": 76,
   "id": "d11ee106-0e9b-48a4-a861-ff9ef75d5b78",
   "metadata": {},
   "outputs": [
    {
     "data": {
      "text/plain": [
       "'0b100011000'"
      ]
     },
     "execution_count": 76,
     "metadata": {},
     "output_type": "execute_result"
    }
   ],
   "source": [
    "bin(280)"
   ]
  },
  {
   "cell_type": "code",
   "execution_count": 77,
   "id": "a2efe863-eebe-4094-8815-639c1d6acb1c",
   "metadata": {},
   "outputs": [
    {
     "data": {
      "text/plain": [
       "'0b11'"
      ]
     },
     "execution_count": 77,
     "metadata": {},
     "output_type": "execute_result"
    }
   ],
   "source": [
    "bin(3)"
   ]
  },
  {
   "cell_type": "code",
   "execution_count": 78,
   "id": "002fc5f4-fb22-4e7a-abdc-31507a8ee2cb",
   "metadata": {},
   "outputs": [
    {
     "data": {
      "text/plain": [
       "'0b100011'"
      ]
     },
     "execution_count": 78,
     "metadata": {},
     "output_type": "execute_result"
    }
   ],
   "source": [
    "bin(35)"
   ]
  },
  {
   "cell_type": "raw",
   "id": "a74c234f-d408-47b4-85eb-2be338a56f57",
   "metadata": {},
   "source": [
    "6. Membership Operators\n",
    "Membership operators are used to test if a sequence (such as a list, tuple, or string) contains a specified element."
   ]
  },
  {
   "cell_type": "code",
   "execution_count": 83,
   "id": "23d1346f-a9b5-463e-81c4-2b4a816d7952",
   "metadata": {},
   "outputs": [
    {
     "data": {
      "text/plain": [
       "True"
      ]
     },
     "execution_count": 83,
     "metadata": {},
     "output_type": "execute_result"
    }
   ],
   "source": [
    "#In (in):\n",
    "x = \"Shyam\"\n",
    "\"Sh\" in x"
   ]
  },
  {
   "cell_type": "code",
   "execution_count": 84,
   "id": "b90249f0-f102-4481-935a-01dba35d10b5",
   "metadata": {},
   "outputs": [
    {
     "data": {
      "text/plain": [
       "False"
      ]
     },
     "execution_count": 84,
     "metadata": {},
     "output_type": "execute_result"
    }
   ],
   "source": [
    "#Not in (not in):\n",
    "x = [\"Ram\",\"Shayam\",\"Karan\"]\n",
    "\"Ram\" not in x"
   ]
  },
  {
   "cell_type": "code",
   "execution_count": 86,
   "id": "02f594bc-1f59-4dcd-a35f-d37ad917c45e",
   "metadata": {},
   "outputs": [
    {
     "data": {
      "text/plain": [
       "True"
      ]
     },
     "execution_count": 86,
     "metadata": {},
     "output_type": "execute_result"
    }
   ],
   "source": [
    "x = [\"Ram\",\"Shayam\",\"Karan\"]\n",
    "\"Apple\" not in x"
   ]
  },
  {
   "cell_type": "raw",
   "id": "29652f6f-c04b-4202-b71f-8ca73f23f8a8",
   "metadata": {},
   "source": [
    "7. Identity Operators\n",
    "Identity operators are used to compare the memory locations of two objects."
   ]
  },
  {
   "cell_type": "code",
   "execution_count": 95,
   "id": "a0cc6d30-6ea8-4529-a16b-f3421461cefb",
   "metadata": {},
   "outputs": [
    {
     "data": {
      "text/plain": [
       "True"
      ]
     },
     "execution_count": 95,
     "metadata": {},
     "output_type": "execute_result"
    }
   ],
   "source": [
    "#Is (is):\n",
    "a = [1,2,3,4]\n",
    "b = a\n",
    "a is b"
   ]
  },
  {
   "cell_type": "code",
   "execution_count": 96,
   "id": "e10ada18-a1af-4bf9-ab41-5624c94beb25",
   "metadata": {},
   "outputs": [
    {
     "data": {
      "text/plain": [
       "True"
      ]
     },
     "execution_count": 96,
     "metadata": {},
     "output_type": "execute_result"
    }
   ],
   "source": [
    "#Is not (is not):\n",
    "a = [1,2,3,4]\n",
    "c = a\n",
    "a is not b"
   ]
  },
  {
   "cell_type": "raw",
   "id": "aff75a8f-f384-4477-8c77-be14cb142d12",
   "metadata": {},
   "source": [
    "8. Special Operators\n",
    "Python also includes some special operators that provide specific functionality, such as the following:"
   ]
  },
  {
   "cell_type": "code",
   "execution_count": 97,
   "id": "5f8b661c-8cc7-42ce-bb4f-9f2f52063ab8",
   "metadata": {},
   "outputs": [
    {
     "name": "stdout",
     "output_type": "stream",
     "text": [
      "I'll play cricket\n"
     ]
    }
   ],
   "source": [
    "#Ternary Operator\n",
    "weather = \"Sunny\"\n",
    "if weather ==\"Sunny\":\n",
    "    print(\"I'll play cricket\")\n",
    "else:\n",
    "    print(\"I'll watch TV\")\n"
   ]
  },
  {
   "cell_type": "raw",
   "id": "a4255977-d5ad-4fbd-ade9-4733bf03b6cb",
   "metadata": {},
   "source": [
    "Each operator type is essential for performing different types of operations, from simple arithmetic to complex logical and bitwise operations."
   ]
  }
 ],
 "metadata": {
  "kernelspec": {
   "display_name": "Python 3 (ipykernel)",
   "language": "python",
   "name": "python3"
  },
  "language_info": {
   "codemirror_mode": {
    "name": "ipython",
    "version": 3
   },
   "file_extension": ".py",
   "mimetype": "text/x-python",
   "name": "python",
   "nbconvert_exporter": "python",
   "pygments_lexer": "ipython3",
   "version": "3.12.4"
  }
 },
 "nbformat": 4,
 "nbformat_minor": 5
}
