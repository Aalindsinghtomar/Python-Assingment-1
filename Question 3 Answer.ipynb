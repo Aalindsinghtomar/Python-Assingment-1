{
 "cells": [
  {
   "cell_type": "raw",
   "id": "6f7f6899-a26c-48bf-bea5-c394f8926223",
   "metadata": {},
   "source": [
    "Compare and contrast mutable and immutable objects in python with examples."
   ]
  },
  {
   "cell_type": "raw",
   "id": "bbf02b08-49ed-41e5-a5cf-618e79e50901",
   "metadata": {},
   "source": [
    "In Python, objects are classified into two categories: mutable and immutable. This distinction is crucial as it determines how objects behave when modified."
   ]
  },
  {
   "cell_type": "raw",
   "id": "21d845dd-9464-4c63-aa26-c0dcd331c7de",
   "metadata": {},
   "source": [
    " Immutable Objects"
   ]
  },
  {
   "cell_type": "raw",
   "id": "5ac217b8-501e-4fea-b6a1-3b6fd7fdc5a4",
   "metadata": {},
   "source": [
    "Definition: Immutable objects are objects whose state or content cannot be changed after they are created. Any attempt to modify an immutable object results in the creation of a new object"
   ]
  },
  {
   "cell_type": "raw",
   "id": "e4c2505d-a12f-4dbe-9dfd-ac258f1f3ba6",
   "metadata": {},
   "source": [
    "Examples of Immutable Objects:*\n",
    "1. *Integers*: Like (1,2,3,4,5)\n",
    "2. *Floats*: the value which will be in point Like (1.2,2.4,3.4,4.2,5.4)\n",
    "3. *Strings*: string means word which will made by alphabets like (Ram,Shyam,road,train,number)\n",
    "4. *boolean*: true or false"
   ]
  },
  {
   "cell_type": "raw",
   "id": "519177e4-7b3b-4a81-a632-11102f48e40e",
   "metadata": {},
   "source": [
    "Examples:"
   ]
  },
  {
   "cell_type": "code",
   "execution_count": 3,
   "id": "c28e4ef0-70fd-4605-89b4-641c66e47f6f",
   "metadata": {},
   "outputs": [
    {
     "data": {
      "text/plain": [
       "int"
      ]
     },
     "execution_count": 3,
     "metadata": {},
     "output_type": "execute_result"
    }
   ],
   "source": [
    "a = 2\n",
    "type(a)"
   ]
  },
  {
   "cell_type": "code",
   "execution_count": 4,
   "id": "5d7bd4c9-e715-4d89-8fdc-5ddbff25d753",
   "metadata": {},
   "outputs": [
    {
     "data": {
      "text/plain": [
       "float"
      ]
     },
     "execution_count": 4,
     "metadata": {},
     "output_type": "execute_result"
    }
   ],
   "source": [
    "a = 2.4\n",
    "type(a)"
   ]
  },
  {
   "cell_type": "code",
   "execution_count": 5,
   "id": "947899c8-2558-46a1-b28d-aeb5da4951ef",
   "metadata": {},
   "outputs": [
    {
     "data": {
      "text/plain": [
       "str"
      ]
     },
     "execution_count": 5,
     "metadata": {},
     "output_type": "execute_result"
    }
   ],
   "source": [
    "a = \"Ram\"\n",
    "type(a)"
   ]
  },
  {
   "cell_type": "code",
   "execution_count": 13,
   "id": "8d82edc1-b6f0-428b-b486-520febc12c47",
   "metadata": {},
   "outputs": [
    {
     "data": {
      "text/plain": [
       "True"
      ]
     },
     "execution_count": 13,
     "metadata": {},
     "output_type": "execute_result"
    }
   ],
   "source": [
    "a = \"Ram\"\n",
    "a <=\"Ram\""
   ]
  },
  {
   "cell_type": "raw",
   "id": "8974d225-ec9b-4354-ba19-e2e20383bb11",
   "metadata": {},
   "source": [
    "Mutable Objects "
   ]
  },
  {
   "cell_type": "raw",
   "id": "2b7af016-8894-4a3c-9bb1-cbe16b9264de",
   "metadata": {},
   "source": [
    "Definition: Mutable objects are objects whose state or content can be changed after they are created. "
   ]
  },
  {
   "cell_type": "raw",
   "id": "fabb69d6-0052-4e58-bd06-f526f3eab9c8",
   "metadata": {},
   "source": [
    "1. *Lists*: You can modify, add, or remove elements after creating a list.\n",
    "2. *Dictionaries*: You can change the values associated with keys, add new key-value pairs, or remove existing pairs.\n",
    "3. *Sets*: You can add or remove elements from a set."
   ]
  },
  {
   "cell_type": "raw",
   "id": "f6b56967-b54f-4b43-87dc-b86d38c02196",
   "metadata": {},
   "source": [
    "Example:"
   ]
  },
  {
   "cell_type": "code",
   "execution_count": 18,
   "id": "dcb7c93c-597e-4911-b040-ad8bf5f91e33",
   "metadata": {},
   "outputs": [
    {
     "data": {
      "text/plain": [
       "(1, 2, 3, 4, 5)"
      ]
     },
     "execution_count": 18,
     "metadata": {},
     "output_type": "execute_result"
    }
   ],
   "source": [
    "a = (1,2,3,4,5)\n",
    "a"
   ]
  },
  {
   "cell_type": "code",
   "execution_count": 19,
   "id": "530c520b-d7a0-4cd3-9dc7-a1bbdc19052a",
   "metadata": {},
   "outputs": [
    {
     "data": {
      "text/plain": [
       "('a', 'b', '3', '4', '5')"
      ]
     },
     "execution_count": 19,
     "metadata": {},
     "output_type": "execute_result"
    }
   ],
   "source": [
    "b = (\"a\",\"b\",\"3\",\"4\",\"5\")\n",
    "b"
   ]
  }
 ],
 "metadata": {
  "kernelspec": {
   "display_name": "Python 3 (ipykernel)",
   "language": "python",
   "name": "python3"
  },
  "language_info": {
   "codemirror_mode": {
    "name": "ipython",
    "version": 3
   },
   "file_extension": ".py",
   "mimetype": "text/x-python",
   "name": "python",
   "nbconvert_exporter": "python",
   "pygments_lexer": "ipython3",
   "version": "3.12.4"
  }
 },
 "nbformat": 4,
 "nbformat_minor": 5
}
