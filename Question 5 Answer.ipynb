{
 "cells": [
  {
   "cell_type": "raw",
   "id": "7e9d3c41-be9e-47ec-837e-ddf244295931",
   "metadata": {},
   "source": [
    "Explain the concept of type casting in Python with examples."
   ]
  },
  {
   "cell_type": "raw",
   "id": "1b2f5696-4eae-41d4-afeb-b431268ea07a",
   "metadata": {},
   "source": [
    "Type casting: in Python refers to the process of converting a value from one data type to another. This is also known as *type conversion*. Python provides several built-in functions to convert data types explicitly. The most common types are integers (int), floating-point numbers (float), strings (str), and more."
   ]
  },
  {
   "cell_type": "raw",
   "id": "c5ae63c5-f106-4406-bf0c-234a424f78cb",
   "metadata": {},
   "source": [
    "Types of Type Casting"
   ]
  },
  {
   "cell_type": "raw",
   "id": "3eedd695-066a-458c-a0cc-3130a717ee3c",
   "metadata": {},
   "source": [
    "There are two types of type casting in Python:"
   ]
  },
  {
   "cell_type": "raw",
   "id": "d93191ec-0aa7-42a1-97f3-841865f6cd71",
   "metadata": {},
   "source": [
    "1. Implicit Type Casting: The Python interpreter automatically converts one data type to another without any user intervention. This usually happens when combining different data types, such as an integer and a float."
   ]
  },
  {
   "cell_type": "code",
   "execution_count": 6,
   "id": "782b24fb-4e31-4496-9ec6-6d46af447891",
   "metadata": {},
   "outputs": [],
   "source": [
    "# Example of implicit type casting\n",
    "x = 12   # Integer\n",
    "y = 4.5  # Float\n"
   ]
  },
  {
   "cell_type": "code",
   "execution_count": 33,
   "id": "7710f359-43b9-4ce9-a882-dda1ba481198",
   "metadata": {},
   "outputs": [
    {
     "data": {
      "text/plain": [
       "16.5"
      ]
     },
     "execution_count": 33,
     "metadata": {},
     "output_type": "execute_result"
    }
   ],
   "source": [
    "# Adding an integer and a float results in a float\n",
    "x = 12\n",
    "y = 4.5\n",
    "x + y"
   ]
  },
  {
   "cell_type": "code",
   "execution_count": 10,
   "id": "2b369d98-f03b-455c-9e63-3f114406884e",
   "metadata": {},
   "outputs": [
    {
     "data": {
      "text/plain": [
       "float"
      ]
     },
     "execution_count": 10,
     "metadata": {},
     "output_type": "execute_result"
    }
   ],
   "source": [
    "type(result)"
   ]
  },
  {
   "cell_type": "raw",
   "id": "ec5c5d9f-2f13-4d1d-a954-d2521b4f07b7",
   "metadata": {},
   "source": [
    "2. Explicit Type Casting: The conversion is explicitly defined by the user using Python's built-in functions. This type of conversion is necessary when you want to convert one data type to another deliberately."
   ]
  },
  {
   "cell_type": "code",
   "execution_count": 34,
   "id": "3489ae08-7886-4c7c-a2ad-d6cfd0b5a489",
   "metadata": {},
   "outputs": [
    {
     "name": "stdout",
     "output_type": "stream",
     "text": [
      "<class 'str'>\n"
     ]
    }
   ],
   "source": [
    "#Example of Explicit Type Casting\n",
    "a = \"6\"\n",
    "print(type(a))"
   ]
  },
  {
   "cell_type": "code",
   "execution_count": 14,
   "id": "9a11ba6d-061a-48e6-9315-3d26f200c3f0",
   "metadata": {},
   "outputs": [
    {
     "name": "stdout",
     "output_type": "stream",
     "text": [
      "<class 'int'>\n"
     ]
    }
   ],
   "source": [
    "print(type(int(a)))"
   ]
  },
  {
   "cell_type": "raw",
   "id": "1156b6d2-3cff-4c49-8afb-3a9e3e1c505c",
   "metadata": {},
   "source": [
    "Common Functions for Explicit Type Casting:\n",
    "\n",
    "- int(x): Converts x to an integer.\n",
    "- float(x): Converts x to a float.\n",
    "- str(x): Converts x to a string.\n",
    "- list(x): Converts x to a list.\n",
    "- tuple(x): Converts x to a tuple."
   ]
  },
  {
   "cell_type": "code",
   "execution_count": 35,
   "id": "08fbe3bc-23d0-4c4d-be87-48f1ffff584c",
   "metadata": {},
   "outputs": [
    {
     "data": {
      "text/plain": [
       "4"
      ]
     },
     "execution_count": 35,
     "metadata": {},
     "output_type": "execute_result"
    }
   ],
   "source": [
    "# Convert float to integer\n",
    "a = 4.5\n",
    "int(a)"
   ]
  },
  {
   "cell_type": "code",
   "execution_count": 36,
   "id": "fd888ece-81cb-4bab-8215-f921b8151f69",
   "metadata": {},
   "outputs": [
    {
     "name": "stdout",
     "output_type": "stream",
     "text": [
      "8.5\n"
     ]
    }
   ],
   "source": [
    "# Convert string to float\n",
    "c = \"8.5\"\n",
    "d = float(c)\n",
    "print(d)"
   ]
  },
  {
   "cell_type": "code",
   "execution_count": 31,
   "id": "c8262437-988d-4149-b6b5-e09fe1e2b295",
   "metadata": {},
   "outputs": [
    {
     "data": {
      "text/plain": [
       "float"
      ]
     },
     "execution_count": 31,
     "metadata": {},
     "output_type": "execute_result"
    }
   ],
   "source": [
    "type(d)"
   ]
  },
  {
   "cell_type": "code",
   "execution_count": 37,
   "id": "e8538603-9f7a-4517-aad4-a36394f0aed4",
   "metadata": {},
   "outputs": [
    {
     "name": "stdout",
     "output_type": "stream",
     "text": [
      "15\n"
     ]
    }
   ],
   "source": [
    "# Convert integer to string\n",
    "e = 15\n",
    "f = str(e)\n",
    "print(f) "
   ]
  },
  {
   "cell_type": "code",
   "execution_count": 29,
   "id": "01be62aa-65bd-4827-bd44-5dc338cdc454",
   "metadata": {},
   "outputs": [
    {
     "data": {
      "text/plain": [
       "str"
      ]
     },
     "execution_count": 29,
     "metadata": {},
     "output_type": "execute_result"
    }
   ],
   "source": [
    "type(f)"
   ]
  },
  {
   "cell_type": "code",
   "execution_count": 28,
   "id": "f82f838d-8518-4266-84f2-480f2d317418",
   "metadata": {},
   "outputs": [
    {
     "name": "stdout",
     "output_type": "stream",
     "text": [
      "(1, 2, 3)\n"
     ]
    }
   ],
   "source": [
    "# Convert list to tuple\n",
    "g = [1, 2, 3]\n",
    "h = tuple(g)\n",
    "print(h)"
   ]
  },
  {
   "cell_type": "code",
   "execution_count": 32,
   "id": "78021868-5dd0-4e03-9e8e-cd19d5025fa3",
   "metadata": {},
   "outputs": [
    {
     "data": {
      "text/plain": [
       "tuple"
      ]
     },
     "execution_count": 32,
     "metadata": {},
     "output_type": "execute_result"
    }
   ],
   "source": [
    "type(h)"
   ]
  },
  {
   "cell_type": "raw",
   "id": "f22acdf1-919a-4002-9ac8-23ae7392d188",
   "metadata": {},
   "source": [
    "In these examples:\n",
    "- int(a) converts the float 5.7 to the integer 5 by truncating the decimal part.\n",
    "- float(c) converts the string \"3.14\" to the float 3.14.\n",
    "- str(e) converts the integer 10 to the string '10'.\n",
    "- tuple(g) converts the list [1, 2, 3] to a tuple (1, 2, 3)."
   ]
  },
  {
   "cell_type": "raw",
   "id": "9526863b-cc4f-4bd6-8e5d-fefdf47e7a20",
   "metadata": {},
   "source": [
    "Why Use Type Casting?\n",
    "\n",
    "- Data Compatibility: Type casting ensures that operations involving different data types are compatible.\n",
    "- Avoiding Errors: Certain operations in Python require specific data types. Casting can prevent errors.\n",
    "- Data Manipulation: Casting helps in manipulating data in various formats, such as converting strings to numbers for mathematical calculations."
   ]
  },
  {
   "cell_type": "raw",
   "id": "185e2399-325a-43f1-a56d-7e4594a2f42a",
   "metadata": {},
   "source": [
    "Conclusion:\n",
    "\n",
    "Type casting is a fundamental concept in Python that allows you to convert data from one type to another, either implicitly or explicitly. Understanding how to use type casting effectively can help you avoid errors and work more efficiently with different data types."
   ]
  }
 ],
 "metadata": {
  "kernelspec": {
   "display_name": "Python 3 (ipykernel)",
   "language": "python",
   "name": "python3"
  },
  "language_info": {
   "codemirror_mode": {
    "name": "ipython",
    "version": 3
   },
   "file_extension": ".py",
   "mimetype": "text/x-python",
   "name": "python",
   "nbconvert_exporter": "python",
   "pygments_lexer": "ipython3",
   "version": "3.12.4"
  }
 },
 "nbformat": 4,
 "nbformat_minor": 5
}
