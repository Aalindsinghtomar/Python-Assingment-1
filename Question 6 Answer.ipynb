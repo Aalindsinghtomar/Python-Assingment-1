{
 "cells": [
  {
   "cell_type": "raw",
   "id": "6edf314a-a33b-47c0-b9c5-7ea56bfd9c82",
   "metadata": {},
   "source": [
    "How do conditional statements work in Python? Illustrate with examples."
   ]
  },
  {
   "cell_type": "raw",
   "id": "7c9088de-944c-4da2-9425-99b0b8c6353b",
   "metadata": {},
   "source": [
    "Conditional statements in Python allow you to execute different blocks of code based on whether a condition (or a set of conditions) is True or False. The most common conditional statements in Python are if, elif, and else."
   ]
  },
  {
   "cell_type": "raw",
   "id": "906f645d-8879-4657-98c5-7eb922235b3e",
   "metadata": {},
   "source": [
    "if Statement:"
   ]
  },
  {
   "cell_type": "code",
   "execution_count": 1,
   "id": "b086429d-d4c0-4947-942a-30df99972290",
   "metadata": {},
   "outputs": [],
   "source": [
    "#syntax\n",
    "#if condition true:\n",
    "#     block of code willbe executed"
   ]
  },
  {
   "cell_type": "code",
   "execution_count": 2,
   "id": "90b99126-241a-4291-94a5-82fc48d65b80",
   "metadata": {},
   "outputs": [
    {
     "data": {
      "text/plain": [
       "False"
      ]
     },
     "execution_count": 2,
     "metadata": {},
     "output_type": "execute_result"
    }
   ],
   "source": [
    "3>4 "
   ]
  },
  {
   "cell_type": "code",
   "execution_count": 3,
   "id": "8f29bc9e-e805-46da-8851-1e667d037a19",
   "metadata": {},
   "outputs": [
    {
     "data": {
      "text/plain": [
       "True"
      ]
     },
     "execution_count": 3,
     "metadata": {},
     "output_type": "execute_result"
    }
   ],
   "source": [
    "1<2"
   ]
  },
  {
   "cell_type": "code",
   "execution_count": 4,
   "id": "6bd24d28-a57b-42bd-aa10-5dd6c4ca01b5",
   "metadata": {},
   "outputs": [
    {
     "name": "stdout",
     "output_type": "stream",
     "text": [
      "the number is greater then 0\n"
     ]
    }
   ],
   "source": [
    "a = 100\n",
    "if a>0:\n",
    "    print (\"the number is greater then 0\")"
   ]
  },
  {
   "cell_type": "code",
   "execution_count": 5,
   "id": "ab46b043-c399-4e4c-8664-5783d69b23e3",
   "metadata": {},
   "outputs": [],
   "source": [
    "#If the statement will be true the next block will start after 4 space\n"
   ]
  },
  {
   "cell_type": "code",
   "execution_count": 11,
   "id": "4b3415c7-3ae5-427f-ac15-34eaf4d58289",
   "metadata": {},
   "outputs": [
    {
     "name": "stdout",
     "output_type": "stream",
     "text": [
      "I will watch TV\n"
     ]
    }
   ],
   "source": [
    "weather = \"Rainy\"\n",
    "if weather == \"Rainy\":\n",
    "    print(\"I will watch TV\")"
   ]
  },
  {
   "cell_type": "raw",
   "id": "140c8629-7723-48fa-9a4a-80aeddf2efc3",
   "metadata": {},
   "source": [
    "elif (Else If) Statement:"
   ]
  },
  {
   "cell_type": "code",
   "execution_count": 12,
   "id": "7e72af50-106f-44a9-972f-37112ebd8600",
   "metadata": {},
   "outputs": [
    {
     "name": "stdout",
     "output_type": "stream",
     "text": [
      "I will watch TV\n"
     ]
    }
   ],
   "source": [
    "#If else >> execute the if block when condition is true else execute else block \n",
    "weather = \"Sunny\"\n",
    "if weather == \"rainy\":\n",
    "     print(\"I will not play cricket\")\n",
    "else:#condition is not true,else block will executed \n",
    "    print(\"I will watch TV\") "
   ]
  },
  {
   "cell_type": "raw",
   "id": "98cca91b-68da-43c9-9466-fc4ac0f5c5cc",
   "metadata": {},
   "source": [
    "else Statement"
   ]
  },
  {
   "cell_type": "code",
   "execution_count": 17,
   "id": "074ee895-8432-453a-b851-71d691e90e91",
   "metadata": {},
   "outputs": [
    {
     "name": "stdout",
     "output_type": "stream",
     "text": [
      "block will smaller then 100\n"
     ]
    }
   ],
   "source": [
    "a = 50\n",
    "if a>100:\n",
    "    print(\"block will greater then 100\")\n",
    "elif a<100:\n",
    "    print(\"block will smaller then 100\")\n",
    "else:\n",
    "    (\"block will equal to 100\")\n",
    "    "
   ]
  },
  {
   "cell_type": "raw",
   "id": "9468edac-5068-432f-b003-ad4457a49b6e",
   "metadata": {},
   "source": [
    "Combining if, elif, and else"
   ]
  },
  {
   "cell_type": "code",
   "execution_count": 18,
   "id": "58644fab-80d2-4794-bb38-75b232870c48",
   "metadata": {},
   "outputs": [
    {
     "name": "stdout",
     "output_type": "stream",
     "text": [
      "its a huge number\n"
     ]
    }
   ],
   "source": [
    "a = 10000\n",
    "if a>2000:\n",
    "    print(\"its a huge number\") \n",
    "elif a>100:\n",
    "    print(\"block will greater then 100\")\n",
    "elif a<100:\n",
    "    print(\"block will smaller then 100\")\n",
    "else:\n",
    "    (\"block will equal to 100\")"
   ]
  },
  {
   "cell_type": "code",
   "execution_count": 20,
   "id": "9e985deb-3e8f-48ca-bf20-712e00da42b9",
   "metadata": {},
   "outputs": [
    {
     "name": "stdout",
     "output_type": "stream",
     "text": [
      "gradeB\n"
     ]
    }
   ],
   "source": [
    "score = 80\n",
    "if score>= 90:\n",
    "    print (\"grade A\")\n",
    "elif (80<=score<90):\n",
    "    print(\"gradeB\")\n",
    "elif (70>=score<90):\n",
    "    print(\"grade C\")\n",
    "else:\n",
    "    print(\"grade D\")"
   ]
  },
  {
   "cell_type": "raw",
   "id": "3f4b2fb1-e074-4f8c-956c-493b416a7f60",
   "metadata": {},
   "source": [
    "Nested Conditionals"
   ]
  },
  {
   "cell_type": "code",
   "execution_count": 21,
   "id": "14f71721-5b60-40dd-81b8-d8d283a053e5",
   "metadata": {},
   "outputs": [
    {
     "name": "stdout",
     "output_type": "stream",
     "text": [
      "both x and y is greater then 5\n"
     ]
    }
   ],
   "source": [
    "x = 7\n",
    "y = 6\n",
    "if x>5:\n",
    "    if y>5:\n",
    "        print(\"both x and y is greater then 5\")\n",
    "    else: \n",
    "            print(\"x is greter the 5 and y is less then 5\")\n",
    "else:\n",
    "                print(\"y is greater then 5\")"
   ]
  },
  {
   "cell_type": "raw",
   "id": "6069a2b4-e241-485f-a8d6-53d185537c66",
   "metadata": {},
   "source": [
    "Summary\n",
    "\n",
    "- if: Executes a block of code if the condition is True.\n",
    "- elif: Checks another condition if the previous conditions were False.\n",
    "- else: Executes a block of code if all previous conditions are False."
   ]
  },
  {
   "cell_type": "code",
   "execution_count": null,
   "id": "be8cc49d-82d2-43d0-87d3-b4932faa0c8a",
   "metadata": {},
   "outputs": [],
   "source": []
  }
 ],
 "metadata": {
  "kernelspec": {
   "display_name": "Python 3 (ipykernel)",
   "language": "python",
   "name": "python3"
  },
  "language_info": {
   "codemirror_mode": {
    "name": "ipython",
    "version": 3
   },
   "file_extension": ".py",
   "mimetype": "text/x-python",
   "name": "python",
   "nbconvert_exporter": "python",
   "pygments_lexer": "ipython3",
   "version": "3.12.4"
  }
 },
 "nbformat": 4,
 "nbformat_minor": 5
}
