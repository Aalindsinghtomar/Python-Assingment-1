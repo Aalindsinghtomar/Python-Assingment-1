{
 "cells": [
  {
   "cell_type": "raw",
   "id": "ac51fb9b-6a7b-4889-b1cc-766a6e5f5acd",
   "metadata": {},
   "source": [
    "Describe the different types of loops in Python and their use cases with examples."
   ]
  },
  {
   "cell_type": "raw",
   "id": "22ea7802-e3d9-4f32-ae76-b773870bfdb1",
   "metadata": {},
   "source": [
    "In Python, loops are used to repeatedly execute a block of code as long as a specified condition is met or until a sequence is exhausted. The two primary types of loops in Python are the for loop and the while loop. Each has its own use cases and advantages."
   ]
  },
  {
   "cell_type": "raw",
   "id": "c3da828a-f4a5-4dcd-a0c9-a7f5a1925d55",
   "metadata": {},
   "source": [
    "1. for Loop"
   ]
  },
  {
   "cell_type": "raw",
   "id": "598ce405-7896-4fd3-b78c-7f29a7699c3d",
   "metadata": {},
   "source": [
    "The for loop is used to iterate over a sequence (like a list, tuple, string, or range) or other iterable objects (like dictionaries or sets). It's commonly used when you want to execute a block of code a specific number of times or iterate over each item in a collection."
   ]
  },
  {
   "cell_type": "raw",
   "id": "067c4915-67c3-48ea-bbcb-aab404582286",
   "metadata": {},
   "source": [
    "Syntax:\n",
    "\n",
    "python\n",
    "for item in iterable:\n",
    "    # Code to execute"
   ]
  },
  {
   "cell_type": "raw",
   "id": "9086be84-cdb5-40b8-b724-a0c914de722a",
   "metadata": {},
   "source": [
    "Use Cases:\n",
    "- Iterating through items in a list, tuple, or dictionary.\n",
    "- Executing a block of code a certain number of times using range().\n",
    "- Processing strings character by character."
   ]
  },
  {
   "cell_type": "code",
   "execution_count": 2,
   "id": "732a1eaf-d270-4bd7-929a-b15a17ad7076",
   "metadata": {},
   "outputs": [
    {
     "name": "stdout",
     "output_type": "stream",
     "text": [
      "['apple', 'banana', 'cherry']\n"
     ]
    }
   ],
   "source": [
    "#Examples\n",
    "#Iterating through a list:\n",
    "fruits = [\"apple\", \"banana\", \"cherry\"]\n",
    "print(fruits)"
   ]
  },
  {
   "cell_type": "code",
   "execution_count": 4,
   "id": "e81d19e1-b177-4dec-b6db-27973bcd96c8",
   "metadata": {},
   "outputs": [
    {
     "name": "stdout",
     "output_type": "stream",
     "text": [
      "0\n",
      "1\n",
      "2\n",
      "3\n",
      "4\n"
     ]
    }
   ],
   "source": [
    "#Using range() to loop a specific number of times:\n",
    "for i in range(5):\n",
    "    print(i)\n",
    "\n"
   ]
  },
  {
   "cell_type": "code",
   "execution_count": 5,
   "id": "331e28be-8ee5-4085-9bab-749d56047331",
   "metadata": {},
   "outputs": [
    {
     "name": "stdout",
     "output_type": "stream",
     "text": [
      "Alice scored 90\n",
      "Bob scored 85\n",
      "Charlie scored 92\n"
     ]
    }
   ],
   "source": [
    "#Iterating through a dictionary:\n",
    "student_scores = {\"Alice\": 90, \"Bob\": 85, \"Charlie\": 92}\n",
    "for student, score in student_scores.items():\n",
    "    print(f\"{student} scored {score}\")"
   ]
  },
  {
   "cell_type": "raw",
   "id": "32c62a01-ae2b-4f72-8677-f16b4ade4b05",
   "metadata": {},
   "source": [
    "2. while Loop"
   ]
  },
  {
   "cell_type": "raw",
   "id": "1f1103c3-2faa-47d8-a7ca-912a3863319e",
   "metadata": {},
   "source": [
    "The while loop is used to repeatedly execute a block of code as long as a specified condition is True. It is particularly useful when the number of iterations is not known beforehand, and the loop should continue running until a specific condition changes."
   ]
  },
  {
   "cell_type": "raw",
   "id": "cac126f8-1c87-4498-a276-4a01b5eff703",
   "metadata": {},
   "source": [
    "Syntax:\n",
    "\n",
    "python\n",
    "while condition:\n",
    "    # Code to execute"
   ]
  },
  {
   "cell_type": "code",
   "execution_count": null,
   "id": "7601e976-8bd7-43c9-ac54-5b2aa918aa74",
   "metadata": {},
   "outputs": [],
   "source": [
    "#Examples:\n",
    "#Basic while loop:"
   ]
  },
  {
   "cell_type": "code",
   "execution_count": 10,
   "id": "f30a17f9-7c3a-4ead-83e1-d22de9e6bb74",
   "metadata": {},
   "outputs": [
    {
     "name": "stdout",
     "output_type": "stream",
     "text": [
      "1\n",
      "2\n",
      "3\n",
      "4\n",
      "5\n",
      "6\n"
     ]
    }
   ],
   "source": [
    "n = 7\n",
    "i = 1\n",
    "while i<n:\n",
    "    print(i)\n",
    "    i = i+1"
   ]
  },
  {
   "cell_type": "code",
   "execution_count": 1,
   "id": "c63c054e-2c39-471d-9d9e-16876173ced1",
   "metadata": {},
   "outputs": [],
   "source": [
    "# Loop until a condition is met:"
   ]
  },
  {
   "cell_type": "code",
   "execution_count": 2,
   "id": "5985327b-9de3-429e-b5ba-f59c1ac11fba",
   "metadata": {},
   "outputs": [
    {
     "name": "stdin",
     "output_type": "stream",
     "text": [
      "Enter the password:  Aalind\n"
     ]
    },
    {
     "name": "stdout",
     "output_type": "stream",
     "text": [
      "Access granted!\n"
     ]
    }
   ],
   "source": [
    "password = \"\"\n",
    "while password != \"Aalind\":\n",
    "    password = input(\"Enter the password: \")\n",
    "print(\"Access granted!\")"
   ]
  },
  {
   "cell_type": "raw",
   "id": "1ffa9706-b5f7-4897-90b3-89d4d59c5884",
   "metadata": {},
   "source": [
    "3. break and continue Statements"
   ]
  },
  {
   "cell_type": "raw",
   "id": "8d2ca9ff-0acf-42b6-9e7a-90576b84fe9e",
   "metadata": {},
   "source": [
    "Break: Terminates the loop prematurely. This is useful when you want to exit a loop based on a specific condition, even if the loop's main condition hasn't been met yet."
   ]
  },
  {
   "cell_type": "code",
   "execution_count": 3,
   "id": "42898002-0535-4e5e-b1ed-8c6aa9dd2fbd",
   "metadata": {},
   "outputs": [
    {
     "name": "stdout",
     "output_type": "stream",
     "text": [
      "0\n",
      "1\n",
      "2\n",
      "3\n",
      "4\n"
     ]
    }
   ],
   "source": [
    "#Example:\n",
    "for i in range(10):\n",
    "    if i == 5:\n",
    "        break\n",
    "    print(i)"
   ]
  },
  {
   "cell_type": "raw",
   "id": "f64fe879-392c-47c6-b3de-434dce55f306",
   "metadata": {},
   "source": [
    "continue: Skips the current iteration and moves to the next iteration of the loop. This is useful when you want to skip certain iterations based on a condition but continue with the loop."
   ]
  },
  {
   "cell_type": "code",
   "execution_count": 4,
   "id": "7c955b6e-9b67-4aa2-9dea-d22100b3d5fe",
   "metadata": {},
   "outputs": [
    {
     "name": "stdout",
     "output_type": "stream",
     "text": [
      "0\n",
      "1\n",
      "3\n",
      "4\n"
     ]
    }
   ],
   "source": [
    "#Example:\n",
    "for i in range(5):\n",
    "    if i == 2:\n",
    "        continue\n",
    "    print(i)"
   ]
  },
  {
   "cell_type": "raw",
   "id": "3343c190-5b6c-4d4d-9ac0-ce4711986b00",
   "metadata": {},
   "source": [
    "4. else Clause with Loops"
   ]
  },
  {
   "cell_type": "raw",
   "id": "ddd7d543-3506-4320-80e7-cecf2877894f",
   "metadata": {},
   "source": [
    "Python allows an else clause with loops, which is executed when the loop completes normally (i.e., not terminated by a break statement)."
   ]
  },
  {
   "cell_type": "code",
   "execution_count": 5,
   "id": "e69c8c27-9175-4c0a-b30c-a9500cdac888",
   "metadata": {},
   "outputs": [
    {
     "name": "stdout",
     "output_type": "stream",
     "text": [
      "0\n",
      "1\n",
      "2\n",
      "3\n",
      "4\n",
      "Loop completed normally.\n"
     ]
    }
   ],
   "source": [
    "#Example:\n",
    "for i in range(5):\n",
    "    print(i)\n",
    "else:\n",
    "    print(\"Loop completed normally.\")\n"
   ]
  },
  {
   "cell_type": "code",
   "execution_count": 6,
   "id": "1fd4d434-2b2d-4c5f-8abd-2590067eb87a",
   "metadata": {},
   "outputs": [
    {
     "name": "stdout",
     "output_type": "stream",
     "text": [
      "0\n",
      "1\n",
      "2\n"
     ]
    }
   ],
   "source": [
    "#Example with break:\n",
    "for i in range(5):\n",
    "    if i == 3:\n",
    "        break\n",
    "    print(i)\n",
    "else:\n",
    "    print(\"Loop completed normally.\")"
   ]
  }
 ],
 "metadata": {
  "kernelspec": {
   "display_name": "Python 3 (ipykernel)",
   "language": "python",
   "name": "python3"
  },
  "language_info": {
   "codemirror_mode": {
    "name": "ipython",
    "version": 3
   },
   "file_extension": ".py",
   "mimetype": "text/x-python",
   "name": "python",
   "nbconvert_exporter": "python",
   "pygments_lexer": "ipython3",
   "version": "3.12.4"
  }
 },
 "nbformat": 4,
 "nbformat_minor": 5
}
