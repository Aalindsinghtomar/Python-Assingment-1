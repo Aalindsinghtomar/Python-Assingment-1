{
 "cells": [
  {
   "cell_type": "raw",
   "id": "5bf4642f-c9d7-4165-b10f-c2280e89ec69",
   "metadata": {},
   "source": [
    "Describe the role of predefined keywords in Python and provide examples of how they are used in a\n",
    "program."
   ]
  },
  {
   "cell_type": "raw",
   "id": "224de75c-0e1c-41ea-9f88-4542e71e8cc5",
   "metadata": {},
   "source": [
    "Predefined keywords in Python, also known as reserved words, are the words that are reserved by the Python language itself. These keywords have special meanings and serve specific purposes in the language syntax. They are used to define the structure and flow of the code and cannot be used as identifiers (such as variable names, function names, etc.) because they are reserved for Python's own use."
   ]
  },
  {
   "cell_type": "raw",
   "id": "9933f4f9-deb3-4991-b45f-4fbaddc70b2f",
   "metadata": {},
   "source": [
    "Role of Predefined Keywords in Python"
   ]
  },
  {
   "cell_type": "raw",
   "id": "9f77f2cf-17b8-4ee1-932b-6666c014fdab",
   "metadata": {},
   "source": [
    "1. Defining Control Flow: Keywords like if, else, elif, while, for, break, continue, and pass are used to control the flow of execution in a program."
   ]
  },
  {
   "cell_type": "raw",
   "id": "180097d8-b28c-4be9-9ac2-4e0c848431ae",
   "metadata": {},
   "source": [
    "2. Defining Functions and Classes: Keywords such as def, return, lambda, class, self, init, etc., are used to define functions and classes and manage their behavior."
   ]
  },
  {
   "cell_type": "raw",
   "id": "ed184ba5-cc80-4305-88a0-49c426b3d232",
   "metadata": {},
   "source": [
    "3. Handling Exceptions: Keywords like try, except, finally, raise, and assert are used for exception handling, which allows the program to handle errors gracefully."
   ]
  },
  {
   "cell_type": "raw",
   "id": "568c9ec2-7bee-42cd-8e8a-51348add1ba6",
   "metadata": {},
   "source": [
    "4. Managing Imports and Modules: Keywords like import, from, as, and global are used to include external modules and manage namespaces within Python programs."
   ]
  },
  {
   "cell_type": "raw",
   "id": "5bb9e1ac-ec9d-4af2-8ea5-83036bbbf12d",
   "metadata": {},
   "source": [
    "5. Working with Data Types and Values: Keywords like True, False, None, and, or, not, is, and in are used to work with Boolean logic and manipulate data."
   ]
  },
  {
   "cell_type": "raw",
   "id": "225cfe6c-441a-49f4-add5-f8dfc0e9a639",
   "metadata": {},
   "source": [
    "6. Defining Variable Scope: Keywords like global, nonlocal, and del are used to manage variable scope and memory."
   ]
  },
  {
   "cell_type": "raw",
   "id": "66790dff-56fa-42e3-ae76-1d4c35d192ce",
   "metadata": {},
   "source": [
    "- Examples of How Keywords are Used in a Program"
   ]
  },
  {
   "cell_type": "raw",
   "id": "4533a244-2ae3-43cb-9099-68cca0f537c7",
   "metadata": {},
   "source": [
    "Example 1: Control Flow with if, elif, and else"
   ]
  },
  {
   "cell_type": "code",
   "execution_count": 2,
   "id": "05751567-3631-404f-ad16-0f35e08380bc",
   "metadata": {},
   "outputs": [
    {
     "name": "stdout",
     "output_type": "stream",
     "text": [
      "I will play cricket\n"
     ]
    }
   ],
   "source": [
    "weather = \"sunny\"\n",
    "if weather == \"sunny\":\n",
    "     print(\"I will play cricket\")\n",
    "else: \n",
    "    print(\"I will watch TV\") "
   ]
  },
  {
   "cell_type": "code",
   "execution_count": 3,
   "id": "afd18264-5379-441e-bc97-e86bd2d18615",
   "metadata": {},
   "outputs": [
    {
     "name": "stdout",
     "output_type": "stream",
     "text": [
      "block will greater then 100\n"
     ]
    }
   ],
   "source": [
    "a = 10000\n",
    "if a>100:\n",
    "    print(\"block will greater then 100\")\n",
    "elif a<100:\n",
    "    print(\"block will smaller then 100\")\n",
    "elif a>2000:\n",
    "    print(\"number is huge\")\n",
    "else:\n",
    "    (\"block will equal to 100\")\n",
    "    "
   ]
  },
  {
   "cell_type": "raw",
   "id": "7565e317-7f18-41be-87f5-c8da2f6ba0cc",
   "metadata": {},
   "source": [
    " Example 2: Loop Control with for and break"
   ]
  },
  {
   "cell_type": "code",
   "execution_count": 4,
   "id": "095c4d95-c447-4797-945f-cf9dac0a8fbb",
   "metadata": {},
   "outputs": [
    {
     "name": "stdout",
     "output_type": "stream",
     "text": [
      "0\n",
      "1\n",
      "2\n"
     ]
    }
   ],
   "source": [
    "for i in range(5):\n",
    "    if i == 3:\n",
    "        break\n",
    "    print(i)"
   ]
  },
  {
   "cell_type": "raw",
   "id": "72ea2194-0245-4f26-8bd3-68b4394cd782",
   "metadata": {},
   "source": [
    "In this example:\n",
    "- for is used to create a loop that iterates over a range of numbers.\n",
    "- break is used to exit the loop prematurely when i equals 3.\n"
   ]
  },
  {
   "cell_type": "raw",
   "id": "b1185b0c-cbb9-4211-83c4-e4ffdc60a94a",
   "metadata": {},
   "source": [
    "Example 3: Defining a Function with def and return"
   ]
  },
  {
   "cell_type": "code",
   "execution_count": 7,
   "id": "a377b43b-52a7-4f57-9a78-24d87dd93a7c",
   "metadata": {},
   "outputs": [
    {
     "name": "stdout",
     "output_type": "stream",
     "text": [
      "Output of adding(16, 25) function is 41\n"
     ]
    }
   ],
   "source": [
    "def adding(x, y):  \n",
    "    i = x + y  \n",
    "    return i  \n",
    "result = adding(16, 25)  \n",
    "print(f'Output of adding(16, 25) function is {result}') \n"
   ]
  },
  {
   "cell_type": "raw",
   "id": "c50d6bd9-85a3-440d-a885-7dd60856cc70",
   "metadata": {},
   "source": [
    "Example 4: Exception Handling with try, except, and finally"
   ]
  },
  {
   "cell_type": "code",
   "execution_count": 8,
   "id": "32e7887b-ecf7-4296-b240-75dac7f19d5b",
   "metadata": {},
   "outputs": [
    {
     "name": "stdout",
     "output_type": "stream",
     "text": [
      "5.0\n"
     ]
    }
   ],
   "source": [
    "numerator = 5\n",
    "denominator = 1\n",
    "result = 0\n",
    "try:\n",
    "    result = numerator/denominator\n",
    "except ZeroDivisionError:\n",
    "    print('Can\\'t divide by zero!')\n",
    "else:\n",
    "    print(result)"
   ]
  },
  {
   "cell_type": "raw",
   "id": "77d1b00d-8f3c-4f3a-96e2-76a7ee186b15",
   "metadata": {},
   "source": [
    "Example 5: Importing Modules with import and as"
   ]
  },
  {
   "cell_type": "code",
   "execution_count": 13,
   "id": "fa7a33bf-bc25-4f0b-8f53-6fa7c255120f",
   "metadata": {},
   "outputs": [
    {
     "name": "stdout",
     "output_type": "stream",
     "text": [
      "vijay\n"
     ]
    }
   ],
   "source": [
    "# some JSON:\n",
    "x = '{ \"name\":\"vijay\"}'\n",
    "\n",
    "# parse x:\n",
    "y = json.loads(x)\n",
    "\n",
    "# the result is a Python dictionary:\n",
    "print(y[\"name\"])"
   ]
  },
  {
   "cell_type": "raw",
   "id": "5c125dc7-8fe4-49fe-b247-d66fa7743a3f",
   "metadata": {},
   "source": [
    "Example 6: Using global to Modify a Global Variable"
   ]
  },
  {
   "cell_type": "code",
   "execution_count": 14,
   "id": "ba8b10d6-17bd-4f1a-adfb-ee8dbcba1791",
   "metadata": {},
   "outputs": [
    {
     "name": "stdout",
     "output_type": "stream",
     "text": [
      "1\n"
     ]
    }
   ],
   "source": [
    "count = 0\n",
    "\n",
    "def increment():\n",
    "    global count\n",
    "    count += 1\n",
    "\n",
    "increment()\n",
    "print(count)"
   ]
  },
  {
   "cell_type": "raw",
   "id": "3ef2f13a-5cd4-495e-981b-9bb9cafda7d8",
   "metadata": {},
   "source": [
    "Conclusion"
   ]
  },
  {
   "cell_type": "raw",
   "id": "0fb521f8-5a3d-4ade-b08e-40018e63077b",
   "metadata": {},
   "source": [
    "Predefined keywords are fundamental to Python programming, as they define the syntax and control structures that allow you to write organized, efficient, and readable code. Understanding how to use these keywords effectively is crucial for writing functional and maintainable Python programs."
   ]
  }
 ],
 "metadata": {
  "kernelspec": {
   "display_name": "Python 3 (ipykernel)",
   "language": "python",
   "name": "python3"
  },
  "language_info": {
   "codemirror_mode": {
    "name": "ipython",
    "version": 3
   },
   "file_extension": ".py",
   "mimetype": "text/x-python",
   "name": "python",
   "nbconvert_exporter": "python",
   "pygments_lexer": "ipython3",
   "version": "3.12.4"
  }
 },
 "nbformat": 4,
 "nbformat_minor": 5
}
